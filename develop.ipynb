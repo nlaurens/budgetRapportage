{
 "cells": [
  {
   "cell_type": "code",
   "execution_count": 34,
   "metadata": {
    "collapsed": false
   },
   "outputs": [
    {
     "name": "stdout",
     "output_type": "stream",
     "text": [
      "The autoreload extension is already loaded. To reload it, use:\n",
      "  %reload_ext autoreload\n"
     ]
    }
   ],
   "source": [
    "%load_ext autoreload\n",
    "%autoreload 2\n",
    "%matplotlib inline  \n",
    "from graph import Graph\n",
    "import numpy as np\n",
    "\n",
    "from config import users\n",
    "import OrderGroep\n",
    "import GrootBoek\n",
    "import web\n",
    "import hashlib\n",
    "from config import config, users\n",
    "import glob\n",
    "import os\n",
    "import csv\n",
    "from Regel import Regel, specific_rules\n",
    "from RegelList import RegelList"
   ]
  },
  {
   "cell_type": "code",
   "execution_count": 2,
   "metadata": {
    "collapsed": false
   },
   "outputs": [
    {
     "ename": "AttributeError",
     "evalue": "Graph instance has no attribute 'old_load'",
     "output_type": "error",
     "traceback": [
      "\u001b[1;31m---------------------------------------------------------------------------\u001b[0m",
      "\u001b[1;31mAttributeError\u001b[0m                            Traceback (most recent call last)",
      "\u001b[1;32m<ipython-input-2-b091c70618eb>\u001b[0m in \u001b[0;36m<module>\u001b[1;34m()\u001b[0m\n\u001b[0;32m      9\u001b[0m \u001b[0mgraph\u001b[0m \u001b[1;33m=\u001b[0m \u001b[0mGraph\u001b[0m\u001b[1;33m(\u001b[0m\u001b[1;33m)\u001b[0m\u001b[1;33m\u001b[0m\u001b[0m\n\u001b[0;32m     10\u001b[0m \u001b[1;31m#graph.load(2008101010)\u001b[0m\u001b[1;33m\u001b[0m\u001b[1;33m\u001b[0m\u001b[0m\n\u001b[1;32m---> 11\u001b[1;33m \u001b[0mgraph\u001b[0m\u001b[1;33m.\u001b[0m\u001b[0mold_load\u001b[0m\u001b[1;33m(\u001b[0m\u001b[1;36m2015\u001b[0m\u001b[1;33m,\u001b[0m \u001b[1;36m2008101010\u001b[0m\u001b[1;33m)\u001b[0m\u001b[1;33m\u001b[0m\u001b[0m\n\u001b[0m\u001b[0;32m     12\u001b[0m \u001b[0mplt\u001b[0m \u001b[1;33m=\u001b[0m \u001b[0mgraph\u001b[0m\u001b[1;33m.\u001b[0m\u001b[0mrealisatie\u001b[0m\u001b[1;33m(\u001b[0m\u001b[0mparams\u001b[0m\u001b[1;33m)\u001b[0m\u001b[1;33m\u001b[0m\u001b[0m\n\u001b[0;32m     13\u001b[0m \u001b[0mplt\u001b[0m\u001b[1;33m.\u001b[0m\u001b[0mshow\u001b[0m\u001b[1;33m(\u001b[0m\u001b[1;33m)\u001b[0m\u001b[1;33m\u001b[0m\u001b[0m\n",
      "\u001b[1;31mAttributeError\u001b[0m: Graph instance has no attribute 'old_load'"
     ]
    }
   ],
   "source": [
    "params = {}\n",
    "params['show_prognose'] = True\n",
    "params['show_cumsum'] = False\n",
    "params['show_details_flat'] = True\n",
    "params['show_details_stack'] = False\n",
    "params['show_table'] = True\n",
    "params['begroting'] = 100000\n",
    "     \n",
    "graph = Graph()\n",
    "#graph.load(2008101010)\n",
    "graph.old_load(2015, 2008101010)\n",
    "plt = graph.realisatie(params)\n",
    "plt.show()\n",
    "plt = graph.baten_lasten_pie()\n",
    "plt.show()\n",
    "plt = graph.besteed_begroot()\n",
    "plt.show()"
   ]
  },
  {
   "cell_type": "code",
   "execution_count": 22,
   "metadata": {
    "collapsed": true
   },
   "outputs": [],
   "source": []
  },
  {
   "cell_type": "code",
   "execution_count": 48,
   "metadata": {
    "collapsed": false
   },
   "outputs": [],
   "source": [
    "userList = {}\n",
    "for userName, orderGroepStr in users.iteritems():\n",
    "    ogFile, ogNames = orderGroepStr.split('.')\n",
    "    ogNames = ogNames.split(',')\n",
    "    orders = ''\n",
    "    og = OrderGroep.load(ogFile)\n",
    "    user = {}\n",
    "    user['hash'] = hashlib.sha224(userName+config['salt']).hexdigest()\n",
    "    user['ordergroepen'] = [] \n",
    "    user['orders'] = []\n",
    "    for grpStr in ogNames:\n",
    "        if grpStr == '*':\n",
    "            ogsub = og\n",
    "        else:\n",
    "            ogsub = og.find(grpStr)\n",
    "        if ogsub:\n",
    "            user['ordergroepen'].append(ogsub)\n",
    "            user['orders'].append(ogsub.list_orders_recursive())\n",
    "            \n",
    "    userList[userName] = user"
   ]
  },
  {
   "cell_type": "code",
   "execution_count": null,
   "metadata": {
    "collapsed": true
   },
   "outputs": [],
   "source": []
  }
 ],
 "metadata": {
  "kernelspec": {
   "display_name": "Python [Root]",
   "language": "python",
   "name": "Python [Root]"
  },
  "language_info": {
   "codemirror_mode": {
    "name": "ipython",
    "version": 2
   },
   "file_extension": ".py",
   "mimetype": "text/x-python",
   "name": "python",
   "nbconvert_exporter": "python",
   "pygments_lexer": "ipython2",
   "version": "2.7.12"
  }
 },
 "nbformat": 4,
 "nbformat_minor": 0
}
